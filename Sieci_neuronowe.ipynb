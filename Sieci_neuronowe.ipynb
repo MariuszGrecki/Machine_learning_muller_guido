{
  "nbformat": 4,
  "nbformat_minor": 0,
  "metadata": {
    "colab": {
      "provenance": [],
      "authorship_tag": "ABX9TyNIsiOT+Z9EqvI0rYxyTzi2",
      "include_colab_link": true
    },
    "kernelspec": {
      "name": "python3",
      "display_name": "Python 3"
    },
    "language_info": {
      "name": "python"
    }
  },
  "cells": [
    {
      "cell_type": "markdown",
      "metadata": {
        "id": "view-in-github",
        "colab_type": "text"
      },
      "source": [
        "<a href=\"https://colab.research.google.com/github/MariuszGrecki/Machine_learning_muller_guido/blob/main/Sieci_neuronowe.ipynb\" target=\"_parent\"><img src=\"https://colab.research.google.com/assets/colab-badge.svg\" alt=\"Open In Colab\"/></a>"
      ]
    },
    {
      "cell_type": "code",
      "execution_count": 1,
      "metadata": {
        "colab": {
          "base_uri": "https://localhost:8080/"
        },
        "id": "DZR2RgllVNmM",
        "outputId": "d1fd7666-6129-48cf-e9a7-c7ec5b22f28a"
      },
      "outputs": [
        {
          "output_type": "stream",
          "name": "stdout",
          "text": [
            "Collecting mglearn\n",
            "  Downloading mglearn-0.2.0-py2.py3-none-any.whl (581 kB)\n",
            "\u001b[2K     \u001b[90m━━━━━━━━━━━━━━━━━━━━━━━━━━━━━━━━━━━━━━━━\u001b[0m \u001b[32m581.4/581.4 kB\u001b[0m \u001b[31m4.7 MB/s\u001b[0m eta \u001b[36m0:00:00\u001b[0m\n",
            "\u001b[?25hRequirement already satisfied: numpy in /usr/local/lib/python3.10/dist-packages (from mglearn) (1.25.2)\n",
            "Requirement already satisfied: matplotlib in /usr/local/lib/python3.10/dist-packages (from mglearn) (3.7.1)\n",
            "Requirement already satisfied: scikit-learn in /usr/local/lib/python3.10/dist-packages (from mglearn) (1.2.2)\n",
            "Requirement already satisfied: pandas in /usr/local/lib/python3.10/dist-packages (from mglearn) (2.0.3)\n",
            "Requirement already satisfied: pillow in /usr/local/lib/python3.10/dist-packages (from mglearn) (9.4.0)\n",
            "Requirement already satisfied: cycler in /usr/local/lib/python3.10/dist-packages (from mglearn) (0.12.1)\n",
            "Requirement already satisfied: imageio in /usr/local/lib/python3.10/dist-packages (from mglearn) (2.31.6)\n",
            "Requirement already satisfied: joblib in /usr/local/lib/python3.10/dist-packages (from mglearn) (1.4.2)\n",
            "Requirement already satisfied: contourpy>=1.0.1 in /usr/local/lib/python3.10/dist-packages (from matplotlib->mglearn) (1.2.1)\n",
            "Requirement already satisfied: fonttools>=4.22.0 in /usr/local/lib/python3.10/dist-packages (from matplotlib->mglearn) (4.53.0)\n",
            "Requirement already satisfied: kiwisolver>=1.0.1 in /usr/local/lib/python3.10/dist-packages (from matplotlib->mglearn) (1.4.5)\n",
            "Requirement already satisfied: packaging>=20.0 in /usr/local/lib/python3.10/dist-packages (from matplotlib->mglearn) (24.1)\n",
            "Requirement already satisfied: pyparsing>=2.3.1 in /usr/local/lib/python3.10/dist-packages (from matplotlib->mglearn) (3.1.2)\n",
            "Requirement already satisfied: python-dateutil>=2.7 in /usr/local/lib/python3.10/dist-packages (from matplotlib->mglearn) (2.8.2)\n",
            "Requirement already satisfied: pytz>=2020.1 in /usr/local/lib/python3.10/dist-packages (from pandas->mglearn) (2023.4)\n",
            "Requirement already satisfied: tzdata>=2022.1 in /usr/local/lib/python3.10/dist-packages (from pandas->mglearn) (2024.1)\n",
            "Requirement already satisfied: scipy>=1.3.2 in /usr/local/lib/python3.10/dist-packages (from scikit-learn->mglearn) (1.11.4)\n",
            "Requirement already satisfied: threadpoolctl>=2.0.0 in /usr/local/lib/python3.10/dist-packages (from scikit-learn->mglearn) (3.5.0)\n",
            "Requirement already satisfied: six>=1.5 in /usr/local/lib/python3.10/dist-packages (from python-dateutil>=2.7->matplotlib->mglearn) (1.16.0)\n",
            "Installing collected packages: mglearn\n",
            "Successfully installed mglearn-0.2.0\n"
          ]
        }
      ],
      "source": [
        "\n",
        "!pip install mglearn\n",
        "import sys\n",
        "import pandas as pd\n",
        "import matplotlib\n",
        "import numpy as np\n",
        "import scipy as sp\n",
        "import IPython\n",
        "import sklearn\n",
        "import mglearn\n",
        "import matplotlib.pyplot as plt"
      ]
    },
    {
      "cell_type": "code",
      "source": [
        "#wizualizacja regresji logistycznej - cechy wejściowe i prognozy zostały przedstawione jako węły, a współczynniki sa połaczeniami między węzłami\n",
        "display(mglearn.plots.plot_logistic_regression_graph())"
      ],
      "metadata": {
        "colab": {
          "base_uri": "https://localhost:8080/",
          "height": 369
        },
        "id": "V2QalvE1V29u",
        "outputId": "2d85531e-46e7-4036-d228-d7fe2e5c6f09"
      },
      "execution_count": 2,
      "outputs": [
        {
          "output_type": "display_data",
          "data": {
            "image/svg+xml": "<?xml version=\"1.0\" encoding=\"UTF-8\" standalone=\"no\"?>\n<!DOCTYPE svg PUBLIC \"-//W3C//DTD SVG 1.1//EN\"\n \"http://www.w3.org/Graphics/SVG/1.1/DTD/svg11.dtd\">\n<!-- Generated by graphviz version 2.43.0 (0)\n -->\n<!-- Title: %3 Pages: 1 -->\n<svg width=\"174pt\" height=\"261pt\"\n viewBox=\"0.00 0.00 174.00 261.00\" xmlns=\"http://www.w3.org/2000/svg\" xmlns:xlink=\"http://www.w3.org/1999/xlink\">\n<g id=\"graph0\" class=\"graph\" transform=\"scale(1 1) rotate(0) translate(4 257)\">\n<title>%3</title>\n<polygon fill=\"white\" stroke=\"transparent\" points=\"-4,4 -4,-257 170,-257 170,4 -4,4\"/>\n<g id=\"clust1\" class=\"cluster\">\n<title>cluster_0</title>\n<polygon fill=\"none\" stroke=\"white\" points=\"8,-8 8,-245 60,-245 60,-8 8,-8\"/>\n<text text-anchor=\"middle\" x=\"34\" y=\"-229.8\" font-family=\"Times,serif\" font-size=\"14.00\">inputs</text>\n</g>\n<g id=\"clust2\" class=\"cluster\">\n<title>cluster_2</title>\n<polygon fill=\"none\" stroke=\"white\" points=\"106,-89 106,-164 158,-164 158,-89 106,-89\"/>\n<text text-anchor=\"middle\" x=\"132\" y=\"-148.8\" font-family=\"Times,serif\" font-size=\"14.00\">output</text>\n</g>\n<!-- x[0] -->\n<g id=\"node1\" class=\"node\">\n<title>x[0]</title>\n<ellipse fill=\"none\" stroke=\"black\" cx=\"34\" cy=\"-196\" rx=\"18\" ry=\"18\"/>\n<text text-anchor=\"middle\" x=\"34\" y=\"-192.3\" font-family=\"Times,serif\" font-size=\"14.00\">x[0]</text>\n</g>\n<!-- y -->\n<g id=\"node5\" class=\"node\">\n<title>y</title>\n<ellipse fill=\"none\" stroke=\"black\" cx=\"132\" cy=\"-115\" rx=\"18\" ry=\"18\"/>\n<text text-anchor=\"middle\" x=\"132\" y=\"-111.3\" font-family=\"Times,serif\" font-size=\"14.00\">y</text>\n</g>\n<!-- x[0]&#45;&gt;y -->\n<g id=\"edge1\" class=\"edge\">\n<title>x[0]&#45;&gt;y</title>\n<path fill=\"none\" stroke=\"black\" d=\"M48.35,-184.74C64.33,-171.26 91.27,-148.52 110.03,-132.69\"/>\n<polygon fill=\"black\" stroke=\"black\" points=\"112.38,-135.29 117.76,-126.17 107.86,-129.94 112.38,-135.29\"/>\n<text text-anchor=\"middle\" x=\"83\" y=\"-171.8\" font-family=\"Times,serif\" font-size=\"14.00\">w[0]</text>\n</g>\n<!-- x[1] -->\n<g id=\"node2\" class=\"node\">\n<title>x[1]</title>\n<ellipse fill=\"none\" stroke=\"black\" cx=\"34\" cy=\"-142\" rx=\"18\" ry=\"18\"/>\n<text text-anchor=\"middle\" x=\"34\" y=\"-138.3\" font-family=\"Times,serif\" font-size=\"14.00\">x[1]</text>\n</g>\n<!-- x[1]&#45;&gt;y -->\n<g id=\"edge2\" class=\"edge\">\n<title>x[1]&#45;&gt;y</title>\n<path fill=\"none\" stroke=\"black\" d=\"M51.72,-137.3C66.31,-133.19 87.74,-127.17 104.63,-122.42\"/>\n<polygon fill=\"black\" stroke=\"black\" points=\"105.79,-125.73 114.47,-119.65 103.9,-118.99 105.79,-125.73\"/>\n<text text-anchor=\"middle\" x=\"83\" y=\"-134.8\" font-family=\"Times,serif\" font-size=\"14.00\">w[1]</text>\n</g>\n<!-- x[2] -->\n<g id=\"node3\" class=\"node\">\n<title>x[2]</title>\n<ellipse fill=\"none\" stroke=\"black\" cx=\"34\" cy=\"-88\" rx=\"18\" ry=\"18\"/>\n<text text-anchor=\"middle\" x=\"34\" y=\"-84.3\" font-family=\"Times,serif\" font-size=\"14.00\">x[2]</text>\n</g>\n<!-- x[2]&#45;&gt;y -->\n<g id=\"edge3\" class=\"edge\">\n<title>x[2]&#45;&gt;y</title>\n<path fill=\"none\" stroke=\"black\" d=\"M51.72,-92.7C66.31,-96.81 87.74,-102.83 104.63,-107.58\"/>\n<polygon fill=\"black\" stroke=\"black\" points=\"103.9,-111.01 114.47,-110.35 105.79,-104.27 103.9,-111.01\"/>\n<text text-anchor=\"middle\" x=\"83\" y=\"-107.8\" font-family=\"Times,serif\" font-size=\"14.00\">w[2]</text>\n</g>\n<!-- x[3] -->\n<g id=\"node4\" class=\"node\">\n<title>x[3]</title>\n<ellipse fill=\"none\" stroke=\"black\" cx=\"34\" cy=\"-34\" rx=\"18\" ry=\"18\"/>\n<text text-anchor=\"middle\" x=\"34\" y=\"-30.3\" font-family=\"Times,serif\" font-size=\"14.00\">x[3]</text>\n</g>\n<!-- x[3]&#45;&gt;y -->\n<g id=\"edge4\" class=\"edge\">\n<title>x[3]&#45;&gt;y</title>\n<path fill=\"none\" stroke=\"black\" d=\"M48.35,-45.26C64.33,-58.74 91.27,-81.48 110.03,-97.31\"/>\n<polygon fill=\"black\" stroke=\"black\" points=\"107.86,-100.06 117.76,-103.83 112.38,-94.71 107.86,-100.06\"/>\n<text text-anchor=\"middle\" x=\"83\" y=\"-82.8\" font-family=\"Times,serif\" font-size=\"14.00\">w[3]</text>\n</g>\n</g>\n</svg>\n",
            "text/plain": [
              "<graphviz.graphs.Digraph at 0x7d57423ac3a0>"
            ]
          },
          "metadata": {}
        }
      ]
    },
    {
      "cell_type": "code",
      "source": [
        "#Ilustracja wielowartwowego perceptronu z pojedynczą warstwą ukrytę\n",
        "display(mglearn.plots.plot_single_hidden_layer_graph())"
      ],
      "metadata": {
        "colab": {
          "base_uri": "https://localhost:8080/",
          "height": 369
        },
        "id": "aVp8nLesWAcl",
        "outputId": "986157fa-8e7d-4b98-fc15-2c8695a79f12"
      },
      "execution_count": 4,
      "outputs": [
        {
          "output_type": "display_data",
          "data": {
            "image/svg+xml": "<?xml version=\"1.0\" encoding=\"UTF-8\" standalone=\"no\"?>\n<!DOCTYPE svg PUBLIC \"-//W3C//DTD SVG 1.1//EN\"\n \"http://www.w3.org/Graphics/SVG/1.1/DTD/svg11.dtd\">\n<!-- Generated by graphviz version 2.43.0 (0)\n -->\n<!-- Title: %3 Pages: 1 -->\n<svg width=\"252pt\" height=\"261pt\"\n viewBox=\"0.00 0.00 252.00 261.00\" xmlns=\"http://www.w3.org/2000/svg\" xmlns:xlink=\"http://www.w3.org/1999/xlink\">\n<g id=\"graph0\" class=\"graph\" transform=\"scale(1 1) rotate(0) translate(4 257)\">\n<title>%3</title>\n<polygon fill=\"white\" stroke=\"transparent\" points=\"-4,4 -4,-257 248,-257 248,4 -4,4\"/>\n<g id=\"clust1\" class=\"cluster\">\n<title>cluster_0</title>\n<polygon fill=\"none\" stroke=\"white\" points=\"8,-8 8,-245 60,-245 60,-8 8,-8\"/>\n<text text-anchor=\"middle\" x=\"34\" y=\"-229.8\" font-family=\"Times,serif\" font-size=\"14.00\">inputs</text>\n</g>\n<g id=\"clust2\" class=\"cluster\">\n<title>cluster_1</title>\n<polygon fill=\"none\" stroke=\"white\" points=\"80,-35 80,-218 164,-218 164,-35 80,-35\"/>\n<text text-anchor=\"middle\" x=\"122\" y=\"-202.8\" font-family=\"Times,serif\" font-size=\"14.00\">hidden layer</text>\n</g>\n<g id=\"clust3\" class=\"cluster\">\n<title>cluster_2</title>\n<polygon fill=\"none\" stroke=\"white\" points=\"184,-89 184,-164 236,-164 236,-89 184,-89\"/>\n<text text-anchor=\"middle\" x=\"210\" y=\"-148.8\" font-family=\"Times,serif\" font-size=\"14.00\">output</text>\n</g>\n<!-- x[0] -->\n<g id=\"node1\" class=\"node\">\n<title>x[0]</title>\n<ellipse fill=\"none\" stroke=\"black\" cx=\"34\" cy=\"-196\" rx=\"18\" ry=\"18\"/>\n<text text-anchor=\"middle\" x=\"34\" y=\"-192.3\" font-family=\"Times,serif\" font-size=\"14.00\">x[0]</text>\n</g>\n<!-- h0 -->\n<g id=\"node5\" class=\"node\">\n<title>h0</title>\n<ellipse fill=\"none\" stroke=\"black\" cx=\"122\" cy=\"-61\" rx=\"18\" ry=\"18\"/>\n<text text-anchor=\"middle\" x=\"122\" y=\"-57.3\" font-family=\"Times,serif\" font-size=\"14.00\">h[0]</text>\n</g>\n<!-- x[0]&#45;&gt;h0 -->\n<g id=\"edge1\" class=\"edge\">\n<title>x[0]&#45;&gt;h0</title>\n<path fill=\"none\" stroke=\"black\" d=\"M44.53,-181.04C59.38,-157.72 88.18,-112.52 105.88,-84.73\"/>\n<polygon fill=\"black\" stroke=\"black\" points=\"109,-86.34 111.43,-76.03 103.1,-82.58 109,-86.34\"/>\n</g>\n<!-- h1 -->\n<g id=\"node6\" class=\"node\">\n<title>h1</title>\n<ellipse fill=\"none\" stroke=\"black\" cx=\"122\" cy=\"-169\" rx=\"18\" ry=\"18\"/>\n<text text-anchor=\"middle\" x=\"122\" y=\"-165.3\" font-family=\"Times,serif\" font-size=\"14.00\">h[1]</text>\n</g>\n<!-- x[0]&#45;&gt;h1 -->\n<g id=\"edge2\" class=\"edge\">\n<title>x[0]&#45;&gt;h1</title>\n<path fill=\"none\" stroke=\"black\" d=\"M51.58,-190.79C63.84,-186.95 80.76,-181.63 94.84,-177.21\"/>\n<polygon fill=\"black\" stroke=\"black\" points=\"95.98,-180.52 104.47,-174.19 93.88,-173.85 95.98,-180.52\"/>\n</g>\n<!-- h2 -->\n<g id=\"node7\" class=\"node\">\n<title>h2</title>\n<ellipse fill=\"none\" stroke=\"black\" cx=\"122\" cy=\"-115\" rx=\"18\" ry=\"18\"/>\n<text text-anchor=\"middle\" x=\"122\" y=\"-111.3\" font-family=\"Times,serif\" font-size=\"14.00\">h[2]</text>\n</g>\n<!-- x[0]&#45;&gt;h2 -->\n<g id=\"edge3\" class=\"edge\">\n<title>x[0]&#45;&gt;h2</title>\n<path fill=\"none\" stroke=\"black\" d=\"M47.69,-184.05C61.66,-170.89 84.32,-149.54 100.76,-134.07\"/>\n<polygon fill=\"black\" stroke=\"black\" points=\"103.38,-136.41 108.26,-127 98.58,-131.31 103.38,-136.41\"/>\n</g>\n<!-- x[1] -->\n<g id=\"node2\" class=\"node\">\n<title>x[1]</title>\n<ellipse fill=\"none\" stroke=\"black\" cx=\"34\" cy=\"-142\" rx=\"18\" ry=\"18\"/>\n<text text-anchor=\"middle\" x=\"34\" y=\"-138.3\" font-family=\"Times,serif\" font-size=\"14.00\">x[1]</text>\n</g>\n<!-- x[1]&#45;&gt;h0 -->\n<g id=\"edge4\" class=\"edge\">\n<title>x[1]&#45;&gt;h0</title>\n<path fill=\"none\" stroke=\"black\" d=\"M47.69,-130.05C61.66,-116.89 84.32,-95.54 100.76,-80.07\"/>\n<polygon fill=\"black\" stroke=\"black\" points=\"103.38,-82.41 108.26,-73 98.58,-77.31 103.38,-82.41\"/>\n</g>\n<!-- x[1]&#45;&gt;h1 -->\n<g id=\"edge5\" class=\"edge\">\n<title>x[1]&#45;&gt;h1</title>\n<path fill=\"none\" stroke=\"black\" d=\"M51.58,-147.21C63.84,-151.05 80.76,-156.37 94.84,-160.79\"/>\n<polygon fill=\"black\" stroke=\"black\" points=\"93.88,-164.15 104.47,-163.81 95.98,-157.48 93.88,-164.15\"/>\n</g>\n<!-- x[1]&#45;&gt;h2 -->\n<g id=\"edge6\" class=\"edge\">\n<title>x[1]&#45;&gt;h2</title>\n<path fill=\"none\" stroke=\"black\" d=\"M51.58,-136.79C63.84,-132.95 80.76,-127.63 94.84,-123.21\"/>\n<polygon fill=\"black\" stroke=\"black\" points=\"95.98,-126.52 104.47,-120.19 93.88,-119.85 95.98,-126.52\"/>\n</g>\n<!-- x[2] -->\n<g id=\"node3\" class=\"node\">\n<title>x[2]</title>\n<ellipse fill=\"none\" stroke=\"black\" cx=\"34\" cy=\"-88\" rx=\"18\" ry=\"18\"/>\n<text text-anchor=\"middle\" x=\"34\" y=\"-84.3\" font-family=\"Times,serif\" font-size=\"14.00\">x[2]</text>\n</g>\n<!-- x[2]&#45;&gt;h0 -->\n<g id=\"edge7\" class=\"edge\">\n<title>x[2]&#45;&gt;h0</title>\n<path fill=\"none\" stroke=\"black\" d=\"M51.58,-82.79C63.84,-78.95 80.76,-73.63 94.84,-69.21\"/>\n<polygon fill=\"black\" stroke=\"black\" points=\"95.98,-72.52 104.47,-66.19 93.88,-65.85 95.98,-72.52\"/>\n</g>\n<!-- x[2]&#45;&gt;h1 -->\n<g id=\"edge8\" class=\"edge\">\n<title>x[2]&#45;&gt;h1</title>\n<path fill=\"none\" stroke=\"black\" d=\"M47.69,-99.95C61.66,-113.11 84.32,-134.46 100.76,-149.93\"/>\n<polygon fill=\"black\" stroke=\"black\" points=\"98.58,-152.69 108.26,-157 103.38,-147.59 98.58,-152.69\"/>\n</g>\n<!-- x[2]&#45;&gt;h2 -->\n<g id=\"edge9\" class=\"edge\">\n<title>x[2]&#45;&gt;h2</title>\n<path fill=\"none\" stroke=\"black\" d=\"M51.58,-93.21C63.84,-97.05 80.76,-102.37 94.84,-106.79\"/>\n<polygon fill=\"black\" stroke=\"black\" points=\"93.88,-110.15 104.47,-109.81 95.98,-103.48 93.88,-110.15\"/>\n</g>\n<!-- x[3] -->\n<g id=\"node4\" class=\"node\">\n<title>x[3]</title>\n<ellipse fill=\"none\" stroke=\"black\" cx=\"34\" cy=\"-34\" rx=\"18\" ry=\"18\"/>\n<text text-anchor=\"middle\" x=\"34\" y=\"-30.3\" font-family=\"Times,serif\" font-size=\"14.00\">x[3]</text>\n</g>\n<!-- x[3]&#45;&gt;h0 -->\n<g id=\"edge10\" class=\"edge\">\n<title>x[3]&#45;&gt;h0</title>\n<path fill=\"none\" stroke=\"black\" d=\"M51.58,-39.21C63.84,-43.05 80.76,-48.37 94.84,-52.79\"/>\n<polygon fill=\"black\" stroke=\"black\" points=\"93.88,-56.15 104.47,-55.81 95.98,-49.48 93.88,-56.15\"/>\n</g>\n<!-- x[3]&#45;&gt;h1 -->\n<g id=\"edge11\" class=\"edge\">\n<title>x[3]&#45;&gt;h1</title>\n<path fill=\"none\" stroke=\"black\" d=\"M44.53,-48.96C59.38,-72.28 88.18,-117.48 105.88,-145.27\"/>\n<polygon fill=\"black\" stroke=\"black\" points=\"103.1,-147.42 111.43,-153.97 109,-143.66 103.1,-147.42\"/>\n</g>\n<!-- x[3]&#45;&gt;h2 -->\n<g id=\"edge12\" class=\"edge\">\n<title>x[3]&#45;&gt;h2</title>\n<path fill=\"none\" stroke=\"black\" d=\"M47.69,-45.95C61.66,-59.11 84.32,-80.46 100.76,-95.93\"/>\n<polygon fill=\"black\" stroke=\"black\" points=\"98.58,-98.69 108.26,-103 103.38,-93.59 98.58,-98.69\"/>\n</g>\n<!-- y -->\n<g id=\"node8\" class=\"node\">\n<title>y</title>\n<ellipse fill=\"none\" stroke=\"black\" cx=\"210\" cy=\"-115\" rx=\"18\" ry=\"18\"/>\n<text text-anchor=\"middle\" x=\"210\" y=\"-111.3\" font-family=\"Times,serif\" font-size=\"14.00\">y</text>\n</g>\n<!-- h0&#45;&gt;y -->\n<g id=\"edge13\" class=\"edge\">\n<title>h0&#45;&gt;y</title>\n<path fill=\"none\" stroke=\"black\" d=\"M137.59,-70.16C150.68,-78.38 170.15,-90.6 185.45,-100.21\"/>\n<polygon fill=\"black\" stroke=\"black\" points=\"184.01,-103.44 194.34,-105.79 187.73,-97.51 184.01,-103.44\"/>\n</g>\n<!-- h1&#45;&gt;y -->\n<g id=\"edge14\" class=\"edge\">\n<title>h1&#45;&gt;y</title>\n<path fill=\"none\" stroke=\"black\" d=\"M137.59,-159.84C150.68,-151.62 170.15,-139.4 185.45,-129.79\"/>\n<polygon fill=\"black\" stroke=\"black\" points=\"187.73,-132.49 194.34,-124.21 184.01,-126.56 187.73,-132.49\"/>\n</g>\n<!-- h2&#45;&gt;y -->\n<g id=\"edge15\" class=\"edge\">\n<title>h2&#45;&gt;y</title>\n<path fill=\"none\" stroke=\"black\" d=\"M140.4,-115C152.25,-115 168.18,-115 181.71,-115\"/>\n<polygon fill=\"black\" stroke=\"black\" points=\"181.92,-118.5 191.92,-115 181.92,-111.5 181.92,-118.5\"/>\n</g>\n</g>\n</svg>\n",
            "text/plain": [
              "<graphviz.graphs.Digraph at 0x7d5743207640>"
            ]
          },
          "metadata": {}
        }
      ]
    },
    {
      "cell_type": "code",
      "source": [
        "from sklearn.neural_network import MLPClassifier\n",
        "from sklearn.datasets import make_moons\n",
        "from sklearn.model_selection import train_test_split\n",
        "\n",
        "# Generowanie danych\n",
        "X, y = make_moons(n_samples=100, noise=0.25, random_state=3)\n",
        "\n",
        "# Podział danych na zestaw treningowy i testowy\n",
        "X_train, X_test, y_train, y_test = train_test_split(X, y, stratify=y, random_state=42)\n",
        "\n",
        "# Trenowanie modelu MLPClassifier\n",
        "mlp = MLPClassifier(solver='lbfgs', random_state=0).fit(X_train, y_train)\n",
        "\n",
        "# Wizualizacja granicy decyzyjnej\n",
        "mglearn.plots.plot_2d_separator(mlp, X_train, fill=True, alpha=.3)\n",
        "mglearn.discrete_scatter(X_train[:, 0], X_train[:, 1], y_train)\n",
        "\n",
        "# Etykiety osi\n",
        "plt.xlabel(\"Cecha 0\")\n",
        "plt.ylabel(\"Cecha 1\")\n",
        "\n",
        "# Wyświetlenie wykresu\n",
        "plt.show()\n"
      ],
      "metadata": {
        "colab": {
          "base_uri": "https://localhost:8080/",
          "height": 426
        },
        "id": "pcLb-ivAWv12",
        "outputId": "22866acb-e2b7-4a8f-d331-6850c98bea96"
      },
      "execution_count": 7,
      "outputs": [
        {
          "output_type": "display_data",
          "data": {
            "text/plain": [
              "<Figure size 640x480 with 1 Axes>"
            ],
            "image/png": "[encoded data removed]"
          },
          "metadata": {}
        }
      ]
    },
    {
      "cell_type": "code",
      "source": [
        "# MLP do zestawu breact Cancer\n",
        "from sklearn.datasets import load_breast_cancer\n",
        "from sklearn.model_selection import train_test_split\n",
        "\n",
        "cancer = load_breast_cancer()\n",
        "print(cancer.data.max(axis=0))"
      ],
      "metadata": {
        "colab": {
          "base_uri": "https://localhost:8080/"
        },
        "id": "JV45xs2hYZup",
        "outputId": "a84ac75d-6367-40ef-c0f5-3b810ca1c796"
      },
      "execution_count": 9,
      "outputs": [
        {
          "output_type": "stream",
          "name": "stdout",
          "text": [
            "[2.811e+01 3.928e+01 1.885e+02 2.501e+03 1.634e-01 3.454e-01 4.268e-01\n",
            " 2.012e-01 3.040e-01 9.744e-02 2.873e+00 4.885e+00 2.198e+01 5.422e+02\n",
            " 3.113e-02 1.354e-01 3.960e-01 5.279e-02 7.895e-02 2.984e-02 3.604e+01\n",
            " 4.954e+01 2.512e+02 4.254e+03 2.226e-01 1.058e+00 1.252e+00 2.910e-01\n",
            " 6.638e-01 2.075e-01]\n"
          ]
        }
      ]
    },
    {
      "cell_type": "code",
      "source": [
        "X_train, X_test, y_train, y_test= train_test_split(cancer.data, cancer.target, random_state = 0)\n",
        "mlp = MLPClassifier(random_state=42)\n",
        "mlp.fit(X_train, y_train)\n",
        "print(mlp.score(X_train, y_train))\n",
        "print(mlp.score(X_test, y_test))"
      ],
      "metadata": {
        "colab": {
          "base_uri": "https://localhost:8080/"
        },
        "id": "zGdR6KX8Z7jj",
        "outputId": "4472a00f-050c-4ce7-9d07-c03c0ca5bdfd"
      },
      "execution_count": 10,
      "outputs": [
        {
          "output_type": "stream",
          "name": "stdout",
          "text": [
            "0.9389671361502347\n",
            "0.916083916083916\n"
          ]
        }
      ]
    },
    {
      "cell_type": "code",
      "source": [],
      "metadata": {
        "id": "ZOOauM5UalcI"
      },
      "execution_count": null,
      "outputs": []
    }
  ]
}